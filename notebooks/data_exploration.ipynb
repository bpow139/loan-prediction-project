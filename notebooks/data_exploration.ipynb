{
 "cells": [
  {
   "cell_type": "code",
   "execution_count": 7,
   "id": "e263e318-6d3f-43bf-a122-61a0b7f86b79",
   "metadata": {
    "tags": []
   },
   "outputs": [],
   "source": [
    "import numpy as np"
   ]
  },
  {
   "cell_type": "code",
   "execution_count": 10,
   "id": "0e63324e-1701-45c2-9017-41be744ad762",
   "metadata": {
    "tags": []
   },
   "outputs": [],
   "source": [
    "import pandas as pd"
   ]
  },
  {
   "cell_type": "code",
   "execution_count": 8,
   "id": "d541347b-a3e0-4352-8960-d888d1162828",
   "metadata": {
    "tags": []
   },
   "outputs": [
    {
     "data": {
      "text/plain": [
       "<module 'numpy.version' from '/usr/local/lib/python3.10/site-packages/numpy/version.py'>"
      ]
     },
     "execution_count": 8,
     "metadata": {},
     "output_type": "execute_result"
    }
   ],
   "source": [
    "np.version"
   ]
  },
  {
   "cell_type": "code",
   "execution_count": 13,
   "id": "aca916c3-89e2-49fe-8ade-0a86f0f39b0b",
   "metadata": {},
   "outputs": [
    {
     "data": {
      "text/plain": [
       "'2.0.0'"
      ]
     },
     "execution_count": 13,
     "metadata": {},
     "output_type": "execute_result"
    }
   ],
   "source": [
    "pd.__version__"
   ]
  },
  {
   "cell_type": "code",
   "execution_count": 14,
   "id": "a9b5f847-c4ef-4eb5-9757-297fa667c8f1",
   "metadata": {
    "tags": []
   },
   "outputs": [
    {
     "name": "stdout",
     "output_type": "stream",
     "text": [
      "Package         Version\n",
      "--------------- -------\n",
      "numpy           1.24.3\n",
      "pandas          2.0.2\n",
      "pip             23.1.2\n",
      "python-dateutil 2.8.2\n",
      "pytz            2023.3\n",
      "setuptools      65.4.1\n",
      "six             1.16.0\n",
      "tzdata          2023.3\n"
     ]
    }
   ],
   "source": [
    "!pip list"
   ]
  },
  {
   "cell_type": "code",
   "execution_count": null,
   "id": "540db727-75d1-4aca-914f-f1789761ff8f",
   "metadata": {},
   "outputs": [],
   "source": []
  }
 ],
 "metadata": {
  "kernelspec": {
   "display_name": "Python 3 (ipykernel)",
   "language": "python",
   "name": "python3"
  },
  "language_info": {
   "codemirror_mode": {
    "name": "ipython",
    "version": 3
   },
   "file_extension": ".py",
   "mimetype": "text/x-python",
   "name": "python",
   "nbconvert_exporter": "python",
   "pygments_lexer": "ipython3",
   "version": "3.10.8"
  }
 },
 "nbformat": 4,
 "nbformat_minor": 5
}
